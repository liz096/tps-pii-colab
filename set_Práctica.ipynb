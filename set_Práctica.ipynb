{
  "nbformat": 4,
  "nbformat_minor": 0,
  "metadata": {
    "colab": {
      "provenance": [],
      "toc_visible": true,
      "include_colab_link": true
    },
    "kernelspec": {
      "name": "python3",
      "display_name": "Python 3"
    },
    "language_info": {
      "name": "python"
    }
  },
  "cells": [
    {
      "cell_type": "markdown",
      "metadata": {
        "id": "view-in-github",
        "colab_type": "text"
      },
      "source": [
        "<a href=\"https://colab.research.google.com/github/liz096/tps-pii-colab/blob/main/set_Pr%C3%A1ctica.ipynb\" target=\"_parent\"><img src=\"https://colab.research.google.com/assets/colab-badge.svg\" alt=\"Open In Colab\"/></a>"
      ]
    },
    {
      "cell_type": "code",
      "execution_count": 1,
      "metadata": {
        "id": "8VOD-zpMJovw"
      },
      "outputs": [],
      "source": [
        "estudiantes = [\n",
        "    {'name': 'Abud Laspiur, Lourdes Mariel', 'section': 'C', 'dob': '05/12/2006'},\n",
        "    {'name': 'Amador, Luana Micaela', 'section': 'C', 'dob': '09/12/2006'},\n",
        "    {'name': 'Anaquin, Leonardo Ezequiel', 'section': 'C', 'dob': '06/09/2005'},\n",
        "    {'name': 'Araoz Sanchez, Lautaro Nahuel', 'section': 'C', 'dob': '28/12/2005'},\n",
        "    {'name': 'Argañaraz, Agostina Abril', 'section': 'C', 'dob': '11/10/2006'},\n",
        "    {'name': 'Barrera, Matias Ezequiel', 'section': 'C', 'dob': '27/02/2007'},\n",
        "    {'name': 'Barrera, Matias Ezequiel', 'section': 'C', 'dob': '27/02/2007'},  # Repetido\n",
        "    {'name': 'Barrozo Vedia, Joaquin Nicolas', 'section': 'C', 'dob': '15/04/2006'},\n",
        "    {'name': 'Bettinelli, Valentino', 'section': 'C', 'dob': '12/07/2006'},\n",
        "    {'name': 'Bracamonte Martinez, Salvador', 'section': 'C', 'dob': '02/11/2005'},\n",
        "    {'name': 'Colque Rivero, Ariana Zoe Del Valle', 'section': 'C', 'dob': '27/12/2006'},\n",
        "    {'name': 'Diaz, Dulce Maitena', 'section': 'C', 'dob': '11/12/2006'},\n",
        "    {'name': 'Figueroa, Santino Josue', 'section': 'C', 'dob': '12/05/2007'},\n",
        "    {'name': 'Figueroa, Santino Josue', 'section': 'C', 'dob': '12/05/2007'},  # Repetido\n",
        "    {'name': 'Flores Cardozo, Agustina Tiara', 'section': 'C', 'dob': '18/03/2006'},\n",
        "    {'name': 'Gallo, Octavio Ismael', 'section': 'C', 'dob': '04/08/2006'},\n",
        "    {'name': 'Galvan, Lourdes Yamila', 'section': 'C', 'dob': '19/08/2005'},\n",
        "    {'name': 'Giangreco, Vitto Tomasso', 'section': 'C', 'dob': '21/03/2007'},\n",
        "    {'name': 'Grancara, Martina Luna', 'section': 'C', 'dob': '15/12/2006'},\n",
        "    {'name': 'Guanca, Sara Elizabeth', 'section': 'C', 'dob': '17/01/2007'},\n",
        "    {'name': 'Lopez, Victoria Constanza', 'section': 'C', 'dob': '12/11/2007'},\n",
        "    {'name': 'Mamani Garrido, Rosario Agostina', 'section': 'C', 'dob': '24/10/2006'},\n",
        "    {'name': 'Marinaro, Martin Ezequiel', 'section': 'C', 'dob': '03/11/2006'},\n",
        "    {'name': 'Merluzzi Dagum, Ignacio', 'section': 'C', 'dob': '22/12/2005'},\n",
        "    {'name': 'Messina, Martina', 'section': 'C', 'dob': '13/07/2005'},\n",
        "    {'name': 'Rasuk, Karim', 'section': 'C', 'dob': '13/07/2007'},\n",
        "    {'name': 'Rasuk, Karim', 'section': 'C', 'dob': '13/07/2007'},  # Repetido\n",
        "    {'name': 'Rios, Lucia Magali', 'section': 'C', 'dob': '22/09/2006'},\n",
        "    {'name': 'Sanchez Flores, Matías Agustín', 'section': 'C', 'dob': '15/02/2007'},\n",
        "    {'name': 'Scarano, Renato Marcelo', 'section': 'C', 'dob': '06/12/2006'},\n",
        "    {'name': 'Sierra, Lucas Mauricio', 'section': 'C', 'dob': '03/04/2005'},\n",
        "    {'name': 'Tapia, Martin Gabriel', 'section': 'C', 'dob': '30/05/2006'},\n",
        "    {'name': 'Vilte, Mia Antonella Alondra', 'section': 'C', 'dob': '10/09/2005'},\n",
        "    {'name': 'Virgillito, Katya Milena', 'section': 'C', 'dob': '19/06/2007'},\n",
        "    {'name': 'Alurralde, Solange Stefania', 'section': 'D', 'dob': '02/04/2007'},\n",
        "    {'name': 'Alvarado, Ludmila Del Milagro', 'section': 'D', 'dob': '06/09/2006'},\n",
        "    {'name': 'Angel, Camila Juliana', 'section': 'D', 'dob': '07/03/2007'},\n",
        "    {'name': 'Arenas, Lucas Gabriel', 'section': 'D', 'dob': '26/06/2007'},\n",
        "    {'name': 'Caseres, Maria Antonia', 'section': 'D', 'dob': '01/07/2006'},\n",
        "    {'name': 'Castillo, Paulina Milagros', 'section': 'D', 'dob': '01/06/2007'},\n",
        "    {'name': 'Correa Segovia, Hugo Mariano', 'section': 'D', 'dob': '04/12/2006'},\n",
        "    {'name': 'Correa Segovia, Hugo Mariano', 'section': 'D', 'dob': '04/12/2006'},  # Repetido\n",
        "    {'name': 'D Elia, Alvaro Tadeo', 'section': 'D', 'dob': '27/08/2006'},\n",
        "    {'name': 'Flores, Victoria Agustina', 'section': 'D', 'dob': '12/12/2006'},\n",
        "    {'name': 'Geronimo Soriano, Lizzie Amaya', 'section': 'D', 'dob': '20/01/2007'},\n",
        "    {'name': 'Guzman, Angélica Morena', 'section': 'D', 'dob': '11/04/2007'},\n",
        "    {'name': 'Guzman, Jazmin Esmeralda Belen', 'section': 'D', 'dob': '31/07/2006'},\n",
        "    {'name': 'Jaime, Anita Maria Belen', 'section': 'D', 'dob': '19/04/2007'},\n",
        "    {'name': 'Lacour Polo, Nazarena', 'section': 'D', 'dob': '19/12/2005'},\n",
        "    {'name': 'Lascano Guanca, Marcelo Fabricio', 'section': 'D', 'dob': '17/02/2006'},\n",
        "    {'name': 'Lezcano, Celia Morena', 'section': 'D', 'dob': '01/07/2005'},\n",
        "    {'name': 'Martinez, Tomas Andres', 'section': 'D', 'dob': '22/03/2007'},\n",
        "    {'name': 'Portella Valdivia, Pedro Francisco', 'section': 'D', 'dob': '24/01/2007'},\n",
        "    {'name': 'Retamal Cisneros, Zacarias Josue', 'section': 'D', 'dob': '24/02/2007'},\n",
        "    {'name': 'Rosales, Francisco Gabriel', 'section': 'D', 'dob': '14/11/2006'},\n",
        "    {'name': 'Salem Barba, Mahia', 'section': 'D', 'dob': '14/10/2005'},\n",
        "    {'name': 'Soto Camara, Agustin Ignacio', 'section': 'D', 'dob': '07/11/2005'},\n",
        "    {'name': 'Villalba, Irina', 'section': 'D', 'dob': '09/09/2006'},\n",
        "    {'name': 'Voltolini, Emanuel Tobias', 'section': 'D', 'dob': '17/09/2006'},\n",
        "    {'name': 'Zalazar, Santino Stefano', 'section': 'D', 'dob': '30/09/2006'},\n",
        "    {'name': 'Zalazar, Santino Stefano', 'section': 'D', 'dob': '30/09/2006'}  # Repetido\n",
        "]\n"
      ]
    },
    {
      "cell_type": "code",
      "source": [
        "# Spoiler de estructura que veremos en los siguientes TPs\n",
        "import json\n",
        "for estudiante in estudiantes:\n",
        "  alumno_json = json.dumps(estudiante,indent=4,ensure_ascii=False)\n",
        "  print(alumno_json,\",\")"
      ],
      "metadata": {
        "colab": {
          "base_uri": "https://localhost:8080/"
        },
        "id": "7lcHoIqemYFH",
        "outputId": "aa6f0255-08b1-48b6-e759-92e311d1a7bf"
      },
      "execution_count": 2,
      "outputs": [
        {
          "output_type": "stream",
          "name": "stdout",
          "text": [
            "{\n",
            "    \"name\": \"Abud Laspiur, Lourdes Mariel\",\n",
            "    \"section\": \"C\",\n",
            "    \"dob\": \"05/12/2006\"\n",
            "} ,\n",
            "{\n",
            "    \"name\": \"Amador, Luana Micaela\",\n",
            "    \"section\": \"C\",\n",
            "    \"dob\": \"09/12/2006\"\n",
            "} ,\n",
            "{\n",
            "    \"name\": \"Anaquin, Leonardo Ezequiel\",\n",
            "    \"section\": \"C\",\n",
            "    \"dob\": \"06/09/2005\"\n",
            "} ,\n",
            "{\n",
            "    \"name\": \"Araoz Sanchez, Lautaro Nahuel\",\n",
            "    \"section\": \"C\",\n",
            "    \"dob\": \"28/12/2005\"\n",
            "} ,\n",
            "{\n",
            "    \"name\": \"Argañaraz, Agostina Abril\",\n",
            "    \"section\": \"C\",\n",
            "    \"dob\": \"11/10/2006\"\n",
            "} ,\n",
            "{\n",
            "    \"name\": \"Barrera, Matias Ezequiel\",\n",
            "    \"section\": \"C\",\n",
            "    \"dob\": \"27/02/2007\"\n",
            "} ,\n",
            "{\n",
            "    \"name\": \"Barrera, Matias Ezequiel\",\n",
            "    \"section\": \"C\",\n",
            "    \"dob\": \"27/02/2007\"\n",
            "} ,\n",
            "{\n",
            "    \"name\": \"Barrozo Vedia, Joaquin Nicolas\",\n",
            "    \"section\": \"C\",\n",
            "    \"dob\": \"15/04/2006\"\n",
            "} ,\n",
            "{\n",
            "    \"name\": \"Bettinelli, Valentino\",\n",
            "    \"section\": \"C\",\n",
            "    \"dob\": \"12/07/2006\"\n",
            "} ,\n",
            "{\n",
            "    \"name\": \"Bracamonte Martinez, Salvador\",\n",
            "    \"section\": \"C\",\n",
            "    \"dob\": \"02/11/2005\"\n",
            "} ,\n",
            "{\n",
            "    \"name\": \"Colque Rivero, Ariana Zoe Del Valle\",\n",
            "    \"section\": \"C\",\n",
            "    \"dob\": \"27/12/2006\"\n",
            "} ,\n",
            "{\n",
            "    \"name\": \"Diaz, Dulce Maitena\",\n",
            "    \"section\": \"C\",\n",
            "    \"dob\": \"11/12/2006\"\n",
            "} ,\n",
            "{\n",
            "    \"name\": \"Figueroa, Santino Josue\",\n",
            "    \"section\": \"C\",\n",
            "    \"dob\": \"12/05/2007\"\n",
            "} ,\n",
            "{\n",
            "    \"name\": \"Figueroa, Santino Josue\",\n",
            "    \"section\": \"C\",\n",
            "    \"dob\": \"12/05/2007\"\n",
            "} ,\n",
            "{\n",
            "    \"name\": \"Flores Cardozo, Agustina Tiara\",\n",
            "    \"section\": \"C\",\n",
            "    \"dob\": \"18/03/2006\"\n",
            "} ,\n",
            "{\n",
            "    \"name\": \"Gallo, Octavio Ismael\",\n",
            "    \"section\": \"C\",\n",
            "    \"dob\": \"04/08/2006\"\n",
            "} ,\n",
            "{\n",
            "    \"name\": \"Galvan, Lourdes Yamila\",\n",
            "    \"section\": \"C\",\n",
            "    \"dob\": \"19/08/2005\"\n",
            "} ,\n",
            "{\n",
            "    \"name\": \"Giangreco, Vitto Tomasso\",\n",
            "    \"section\": \"C\",\n",
            "    \"dob\": \"21/03/2007\"\n",
            "} ,\n",
            "{\n",
            "    \"name\": \"Grancara, Martina Luna\",\n",
            "    \"section\": \"C\",\n",
            "    \"dob\": \"15/12/2006\"\n",
            "} ,\n",
            "{\n",
            "    \"name\": \"Guanca, Sara Elizabeth\",\n",
            "    \"section\": \"C\",\n",
            "    \"dob\": \"17/01/2007\"\n",
            "} ,\n",
            "{\n",
            "    \"name\": \"Lopez, Victoria Constanza\",\n",
            "    \"section\": \"C\",\n",
            "    \"dob\": \"12/11/2007\"\n",
            "} ,\n",
            "{\n",
            "    \"name\": \"Mamani Garrido, Rosario Agostina\",\n",
            "    \"section\": \"C\",\n",
            "    \"dob\": \"24/10/2006\"\n",
            "} ,\n",
            "{\n",
            "    \"name\": \"Marinaro, Martin Ezequiel\",\n",
            "    \"section\": \"C\",\n",
            "    \"dob\": \"03/11/2006\"\n",
            "} ,\n",
            "{\n",
            "    \"name\": \"Merluzzi Dagum, Ignacio\",\n",
            "    \"section\": \"C\",\n",
            "    \"dob\": \"22/12/2005\"\n",
            "} ,\n",
            "{\n",
            "    \"name\": \"Messina, Martina\",\n",
            "    \"section\": \"C\",\n",
            "    \"dob\": \"13/07/2005\"\n",
            "} ,\n",
            "{\n",
            "    \"name\": \"Rasuk, Karim\",\n",
            "    \"section\": \"C\",\n",
            "    \"dob\": \"13/07/2007\"\n",
            "} ,\n",
            "{\n",
            "    \"name\": \"Rasuk, Karim\",\n",
            "    \"section\": \"C\",\n",
            "    \"dob\": \"13/07/2007\"\n",
            "} ,\n",
            "{\n",
            "    \"name\": \"Rios, Lucia Magali\",\n",
            "    \"section\": \"C\",\n",
            "    \"dob\": \"22/09/2006\"\n",
            "} ,\n",
            "{\n",
            "    \"name\": \"Sanchez Flores, Matías Agustín\",\n",
            "    \"section\": \"C\",\n",
            "    \"dob\": \"15/02/2007\"\n",
            "} ,\n",
            "{\n",
            "    \"name\": \"Scarano, Renato Marcelo\",\n",
            "    \"section\": \"C\",\n",
            "    \"dob\": \"06/12/2006\"\n",
            "} ,\n",
            "{\n",
            "    \"name\": \"Sierra, Lucas Mauricio\",\n",
            "    \"section\": \"C\",\n",
            "    \"dob\": \"03/04/2005\"\n",
            "} ,\n",
            "{\n",
            "    \"name\": \"Tapia, Martin Gabriel\",\n",
            "    \"section\": \"C\",\n",
            "    \"dob\": \"30/05/2006\"\n",
            "} ,\n",
            "{\n",
            "    \"name\": \"Vilte, Mia Antonella Alondra\",\n",
            "    \"section\": \"C\",\n",
            "    \"dob\": \"10/09/2005\"\n",
            "} ,\n",
            "{\n",
            "    \"name\": \"Virgillito, Katya Milena\",\n",
            "    \"section\": \"C\",\n",
            "    \"dob\": \"19/06/2007\"\n",
            "} ,\n",
            "{\n",
            "    \"name\": \"Alurralde, Solange Stefania\",\n",
            "    \"section\": \"D\",\n",
            "    \"dob\": \"02/04/2007\"\n",
            "} ,\n",
            "{\n",
            "    \"name\": \"Alvarado, Ludmila Del Milagro\",\n",
            "    \"section\": \"D\",\n",
            "    \"dob\": \"06/09/2006\"\n",
            "} ,\n",
            "{\n",
            "    \"name\": \"Angel, Camila Juliana\",\n",
            "    \"section\": \"D\",\n",
            "    \"dob\": \"07/03/2007\"\n",
            "} ,\n",
            "{\n",
            "    \"name\": \"Arenas, Lucas Gabriel\",\n",
            "    \"section\": \"D\",\n",
            "    \"dob\": \"26/06/2007\"\n",
            "} ,\n",
            "{\n",
            "    \"name\": \"Caseres, Maria Antonia\",\n",
            "    \"section\": \"D\",\n",
            "    \"dob\": \"01/07/2006\"\n",
            "} ,\n",
            "{\n",
            "    \"name\": \"Castillo, Paulina Milagros\",\n",
            "    \"section\": \"D\",\n",
            "    \"dob\": \"01/06/2007\"\n",
            "} ,\n",
            "{\n",
            "    \"name\": \"Correa Segovia, Hugo Mariano\",\n",
            "    \"section\": \"D\",\n",
            "    \"dob\": \"04/12/2006\"\n",
            "} ,\n",
            "{\n",
            "    \"name\": \"Correa Segovia, Hugo Mariano\",\n",
            "    \"section\": \"D\",\n",
            "    \"dob\": \"04/12/2006\"\n",
            "} ,\n",
            "{\n",
            "    \"name\": \"D Elia, Alvaro Tadeo\",\n",
            "    \"section\": \"D\",\n",
            "    \"dob\": \"27/08/2006\"\n",
            "} ,\n",
            "{\n",
            "    \"name\": \"Flores, Victoria Agustina\",\n",
            "    \"section\": \"D\",\n",
            "    \"dob\": \"12/12/2006\"\n",
            "} ,\n",
            "{\n",
            "    \"name\": \"Geronimo Soriano, Lizzie Amaya\",\n",
            "    \"section\": \"D\",\n",
            "    \"dob\": \"20/01/2007\"\n",
            "} ,\n",
            "{\n",
            "    \"name\": \"Guzman, Angélica Morena\",\n",
            "    \"section\": \"D\",\n",
            "    \"dob\": \"11/04/2007\"\n",
            "} ,\n",
            "{\n",
            "    \"name\": \"Guzman, Jazmin Esmeralda Belen\",\n",
            "    \"section\": \"D\",\n",
            "    \"dob\": \"31/07/2006\"\n",
            "} ,\n",
            "{\n",
            "    \"name\": \"Jaime, Anita Maria Belen\",\n",
            "    \"section\": \"D\",\n",
            "    \"dob\": \"19/04/2007\"\n",
            "} ,\n",
            "{\n",
            "    \"name\": \"Lacour Polo, Nazarena\",\n",
            "    \"section\": \"D\",\n",
            "    \"dob\": \"19/12/2005\"\n",
            "} ,\n",
            "{\n",
            "    \"name\": \"Lascano Guanca, Marcelo Fabricio\",\n",
            "    \"section\": \"D\",\n",
            "    \"dob\": \"17/02/2006\"\n",
            "} ,\n",
            "{\n",
            "    \"name\": \"Lezcano, Celia Morena\",\n",
            "    \"section\": \"D\",\n",
            "    \"dob\": \"01/07/2005\"\n",
            "} ,\n",
            "{\n",
            "    \"name\": \"Martinez, Tomas Andres\",\n",
            "    \"section\": \"D\",\n",
            "    \"dob\": \"22/03/2007\"\n",
            "} ,\n",
            "{\n",
            "    \"name\": \"Portella Valdivia, Pedro Francisco\",\n",
            "    \"section\": \"D\",\n",
            "    \"dob\": \"24/01/2007\"\n",
            "} ,\n",
            "{\n",
            "    \"name\": \"Retamal Cisneros, Zacarias Josue\",\n",
            "    \"section\": \"D\",\n",
            "    \"dob\": \"24/02/2007\"\n",
            "} ,\n",
            "{\n",
            "    \"name\": \"Rosales, Francisco Gabriel\",\n",
            "    \"section\": \"D\",\n",
            "    \"dob\": \"14/11/2006\"\n",
            "} ,\n",
            "{\n",
            "    \"name\": \"Salem Barba, Mahia\",\n",
            "    \"section\": \"D\",\n",
            "    \"dob\": \"14/10/2005\"\n",
            "} ,\n",
            "{\n",
            "    \"name\": \"Soto Camara, Agustin Ignacio\",\n",
            "    \"section\": \"D\",\n",
            "    \"dob\": \"07/11/2005\"\n",
            "} ,\n",
            "{\n",
            "    \"name\": \"Villalba, Irina\",\n",
            "    \"section\": \"D\",\n",
            "    \"dob\": \"09/09/2006\"\n",
            "} ,\n",
            "{\n",
            "    \"name\": \"Voltolini, Emanuel Tobias\",\n",
            "    \"section\": \"D\",\n",
            "    \"dob\": \"17/09/2006\"\n",
            "} ,\n",
            "{\n",
            "    \"name\": \"Zalazar, Santino Stefano\",\n",
            "    \"section\": \"D\",\n",
            "    \"dob\": \"30/09/2006\"\n",
            "} ,\n",
            "{\n",
            "    \"name\": \"Zalazar, Santino Stefano\",\n",
            "    \"section\": \"D\",\n",
            "    \"dob\": \"30/09/2006\"\n",
            "} ,\n"
          ]
        }
      ]
    },
    {
      "cell_type": "markdown",
      "source": [
        "## Dada la lista estudiantes:\n",
        "> - Hacer una celda para resolver cada punto.\n",
        "- El TP resuelto será revisado en tu repositorio, no es necesario que lo envíes, pero sí que lo pushees correctamente.\n",
        "- En la nota inicial se contempla:\n",
        "  - La incorporación de este documento a tu propio respositorio.\n",
        "  - El pusheo de los cambios realizados.\n",
        "  - La resolución de los ejercicios propuestos.\n"
      ],
      "metadata": {
        "id": "rd6Ug6v3J4uN"
      }
    },
    {
      "cell_type": "markdown",
      "source": [
        "1. Dada la lista de estudiantes, elimina los elementos repetidos de la misma, usando para ello una estructura set. El resultado final debe ser una lista, con la misma estructura de la original, pero sin datos repetidos.\n",
        "\n",
        "Para esto tener en cuenta que:\n",
        "- Los conjuntos solo pueden almacenar datos inmutables.\n",
        "- Los diccionarios son estructuras mutables.\n",
        "- dict.items() devuelve una lista de tuplas.\n",
        "- dict(tupla) genera un diccionario, donde el primer elemento de la tupla es la clave, y el segundo el valor. Ej:\n",
        "  -\n",
        "  ```python\n",
        "  dict([(\"Alberto\", 10), (\"José\", 7), (\"Dario\", 14), (\"Ana\", 8), (\"Maria\", 9), (\"Emilia\", 10)])\n",
        "\n",
        "  va a generar el siguiente diccionario:\n",
        "\n",
        "  ```python\n",
        "  {'Alberto': 10, 'José': 7, 'Dario': 14, 'Ana': 8, 'Maria': 9, 'Emilia': 10}\n",
        "  ```\n",
        "\n"
      ],
      "metadata": {
        "id": "wRLng-uURyJ3"
      }
    },
    {
      "cell_type": "code",
      "source": [
        "lista_tuplas=[]\n",
        "estudiantes_sin_repetidos=[]\n",
        "for estudiante in estudiantes:\n",
        "  tupla=tuple(estudiante.items())\n",
        "  lista_tuplas.append(tupla)\n",
        "conjunto_tuplas=set(lista_tuplas)\n",
        "for estudiante in conjunto_tuplas:\n",
        "  un_estudiante=dict(estudiante)\n",
        "  estudiantes_sin_repetidos.append(un_estudiante)\n",
        "for estudiante in estudiantes_sin_repetidos:\n",
        "  print(estudiante)"
      ],
      "metadata": {
        "id": "TSuew0MWN7Ci",
        "outputId": "5b349c3c-f780-474d-b517-fdde07f5380a",
        "colab": {
          "base_uri": "https://localhost:8080/"
        }
      },
      "execution_count": 3,
      "outputs": [
        {
          "output_type": "stream",
          "name": "stdout",
          "text": [
            "{'name': 'Guanca, Sara Elizabeth', 'section': 'C', 'dob': '17/01/2007'}\n",
            "{'name': 'Guzman, Angélica Morena', 'section': 'D', 'dob': '11/04/2007'}\n",
            "{'name': 'Galvan, Lourdes Yamila', 'section': 'C', 'dob': '19/08/2005'}\n",
            "{'name': 'Figueroa, Santino Josue', 'section': 'C', 'dob': '12/05/2007'}\n",
            "{'name': 'Messina, Martina', 'section': 'C', 'dob': '13/07/2005'}\n",
            "{'name': 'Colque Rivero, Ariana Zoe Del Valle', 'section': 'C', 'dob': '27/12/2006'}\n",
            "{'name': 'Vilte, Mia Antonella Alondra', 'section': 'C', 'dob': '10/09/2005'}\n",
            "{'name': 'Correa Segovia, Hugo Mariano', 'section': 'D', 'dob': '04/12/2006'}\n",
            "{'name': 'Scarano, Renato Marcelo', 'section': 'C', 'dob': '06/12/2006'}\n",
            "{'name': 'Sanchez Flores, Matías Agustín', 'section': 'C', 'dob': '15/02/2007'}\n",
            "{'name': 'Lacour Polo, Nazarena', 'section': 'D', 'dob': '19/12/2005'}\n",
            "{'name': 'Abud Laspiur, Lourdes Mariel', 'section': 'C', 'dob': '05/12/2006'}\n",
            "{'name': 'Rios, Lucia Magali', 'section': 'C', 'dob': '22/09/2006'}\n",
            "{'name': 'Guzman, Jazmin Esmeralda Belen', 'section': 'D', 'dob': '31/07/2006'}\n",
            "{'name': 'Barrozo Vedia, Joaquin Nicolas', 'section': 'C', 'dob': '15/04/2006'}\n",
            "{'name': 'Gallo, Octavio Ismael', 'section': 'C', 'dob': '04/08/2006'}\n",
            "{'name': 'Argañaraz, Agostina Abril', 'section': 'C', 'dob': '11/10/2006'}\n",
            "{'name': 'Angel, Camila Juliana', 'section': 'D', 'dob': '07/03/2007'}\n",
            "{'name': 'Caseres, Maria Antonia', 'section': 'D', 'dob': '01/07/2006'}\n",
            "{'name': 'Lezcano, Celia Morena', 'section': 'D', 'dob': '01/07/2005'}\n",
            "{'name': 'Alurralde, Solange Stefania', 'section': 'D', 'dob': '02/04/2007'}\n",
            "{'name': 'Araoz Sanchez, Lautaro Nahuel', 'section': 'C', 'dob': '28/12/2005'}\n",
            "{'name': 'Virgillito, Katya Milena', 'section': 'C', 'dob': '19/06/2007'}\n",
            "{'name': 'D Elia, Alvaro Tadeo', 'section': 'D', 'dob': '27/08/2006'}\n",
            "{'name': 'Villalba, Irina', 'section': 'D', 'dob': '09/09/2006'}\n",
            "{'name': 'Mamani Garrido, Rosario Agostina', 'section': 'C', 'dob': '24/10/2006'}\n",
            "{'name': 'Amador, Luana Micaela', 'section': 'C', 'dob': '09/12/2006'}\n",
            "{'name': 'Castillo, Paulina Milagros', 'section': 'D', 'dob': '01/06/2007'}\n",
            "{'name': 'Salem Barba, Mahia', 'section': 'D', 'dob': '14/10/2005'}\n",
            "{'name': 'Merluzzi Dagum, Ignacio', 'section': 'C', 'dob': '22/12/2005'}\n",
            "{'name': 'Jaime, Anita Maria Belen', 'section': 'D', 'dob': '19/04/2007'}\n",
            "{'name': 'Zalazar, Santino Stefano', 'section': 'D', 'dob': '30/09/2006'}\n",
            "{'name': 'Portella Valdivia, Pedro Francisco', 'section': 'D', 'dob': '24/01/2007'}\n",
            "{'name': 'Diaz, Dulce Maitena', 'section': 'C', 'dob': '11/12/2006'}\n",
            "{'name': 'Geronimo Soriano, Lizzie Amaya', 'section': 'D', 'dob': '20/01/2007'}\n",
            "{'name': 'Grancara, Martina Luna', 'section': 'C', 'dob': '15/12/2006'}\n",
            "{'name': 'Marinaro, Martin Ezequiel', 'section': 'C', 'dob': '03/11/2006'}\n",
            "{'name': 'Retamal Cisneros, Zacarias Josue', 'section': 'D', 'dob': '24/02/2007'}\n",
            "{'name': 'Rosales, Francisco Gabriel', 'section': 'D', 'dob': '14/11/2006'}\n",
            "{'name': 'Rasuk, Karim', 'section': 'C', 'dob': '13/07/2007'}\n",
            "{'name': 'Arenas, Lucas Gabriel', 'section': 'D', 'dob': '26/06/2007'}\n",
            "{'name': 'Sierra, Lucas Mauricio', 'section': 'C', 'dob': '03/04/2005'}\n",
            "{'name': 'Voltolini, Emanuel Tobias', 'section': 'D', 'dob': '17/09/2006'}\n",
            "{'name': 'Tapia, Martin Gabriel', 'section': 'C', 'dob': '30/05/2006'}\n",
            "{'name': 'Martinez, Tomas Andres', 'section': 'D', 'dob': '22/03/2007'}\n",
            "{'name': 'Alvarado, Ludmila Del Milagro', 'section': 'D', 'dob': '06/09/2006'}\n",
            "{'name': 'Flores, Victoria Agustina', 'section': 'D', 'dob': '12/12/2006'}\n",
            "{'name': 'Barrera, Matias Ezequiel', 'section': 'C', 'dob': '27/02/2007'}\n",
            "{'name': 'Lascano Guanca, Marcelo Fabricio', 'section': 'D', 'dob': '17/02/2006'}\n",
            "{'name': 'Lopez, Victoria Constanza', 'section': 'C', 'dob': '12/11/2007'}\n",
            "{'name': 'Anaquin, Leonardo Ezequiel', 'section': 'C', 'dob': '06/09/2005'}\n",
            "{'name': 'Bracamonte Martinez, Salvador', 'section': 'C', 'dob': '02/11/2005'}\n",
            "{'name': 'Flores Cardozo, Agustina Tiara', 'section': 'C', 'dob': '18/03/2006'}\n",
            "{'name': 'Bettinelli, Valentino', 'section': 'C', 'dob': '12/07/2006'}\n",
            "{'name': 'Soto Camara, Agustin Ignacio', 'section': 'D', 'dob': '07/11/2005'}\n",
            "{'name': 'Giangreco, Vitto Tomasso', 'section': 'C', 'dob': '21/03/2007'}\n"
          ]
        }
      ]
    },
    {
      "cell_type": "markdown",
      "source": [
        "2. Crea un conjunto de nombres y otro de apellidos para 5C y  para 5D.\n",
        "- Muestra los conjuntos generados\n",
        "\n",
        "> recordá que los conjuntos solo pueden almacenar datos inmutables"
      ],
      "metadata": {
        "id": "dYEGkYZyLy9I"
      }
    },
    {
      "cell_type": "code",
      "source": [
        "nombres_5C=set()\n",
        "apellidos_5C=set()\n",
        "nombres_5d=set()\n",
        "apellidos_5d=set()\n",
        "for estudiante in estudiantes:\n",
        "  nombre_completo=estudiante[\"name\"]\n",
        "  apellido,nombre= nombre_completo.split(\",\")\n",
        "  apellidos = apellido.split(\" \")\n",
        "  nombres = nombre.strip().split(\" \")\n",
        "  if estudiante[\"section\"]==\"C\":\n",
        "   for nombre in nombres:\n",
        "      nombres_5C.add(nombre)\n",
        "   for apellido in apellidos:\n",
        "      apellidos_5C.add(apellido)\n",
        "  else:\n",
        "   for nombre in nombres:\n",
        "     nombres_5d.add(nombre)\n",
        "   for apellido in apellidos:\n",
        "     apellidos_5d.add(apellido)\n",
        "print(f\"{nombres_5C=}\")\n",
        "print(f\"{apellidos_5C=}\")\n",
        "print(f\"{nombres_5d=}\")\n",
        "print(f\"{apellidos_5d=}\")"
      ],
      "metadata": {
        "id": "5hVrzFPgxs_E",
        "outputId": "435b559c-a5d1-4b1b-b7c2-de728c50905a",
        "colab": {
          "base_uri": "https://localhost:8080/"
        }
      },
      "execution_count": 10,
      "outputs": [
        {
          "output_type": "stream",
          "name": "stdout",
          "text": [
            "nombres_5C={'Valle', 'Agustina', 'Dulce', 'Mauricio', 'Sara', 'Maitena', 'Zoe', 'Victoria', 'Joaquin', 'Ezequiel', 'Magali', 'Ignacio', 'Agustín', 'Agostina', 'Santino', 'Renato', 'Martina', 'Del', 'Lourdes', 'Micaela', 'Marcelo', 'Abril', 'Karim', 'Ismael', 'Tiara', 'Salvador', 'Nicolas', 'Gabriel', 'Octavio', 'Josue', 'Constanza', 'Lucas', 'Antonella', 'Valentino', 'Yamila', 'Luna', 'Martin', 'Matías', 'Matias', 'Lautaro', 'Ariana', 'Alondra', 'Leonardo', 'Mia', 'Katya', 'Elizabeth', 'Luana', 'Lucia', 'Tomasso', 'Nahuel', 'Mariel', 'Vitto', 'Rosario', 'Milena'}\n",
            "apellidos_5C={'Abud', 'Tapia', 'Vedia', 'Rasuk', 'Barrozo', 'Bettinelli', 'Vilte', 'Dagum', 'Diaz', 'Martinez', 'Messina', 'Giangreco', 'Rivero', 'Argañaraz', 'Figueroa', 'Rios', 'Anaquin', 'Grancara', 'Barrera', 'Merluzzi', 'Sanchez', 'Flores', 'Sierra', 'Marinaro', 'Cardozo', 'Laspiur', 'Guanca', 'Mamani', 'Araoz', 'Galvan', 'Scarano', 'Amador', 'Lopez', 'Garrido', 'Gallo', 'Bracamonte', 'Virgillito', 'Colque'}\n",
            "nombres_5d={'Alvaro', 'Agustina', 'Jazmin', 'Hugo', 'Camila', 'Belen', 'Anita', 'Celia', 'Maria', 'Victoria', 'Stefano', 'Nazarena', 'Paulina', 'Milagro', 'Juliana', 'Agustin', 'Santino', 'Del', 'Marcelo', 'Fabricio', 'Tomas', 'Gabriel', 'Ludmila', 'Solange', 'Milagros', 'Stefania', 'Mahia', 'Zacarias', 'Francisco', 'Josue', 'Andres', 'Esmeralda', 'Pedro', 'Lucas', 'Morena', 'Amaya', 'Angélica', 'Irina', 'Emanuel', 'Tobias', 'Lizzie', 'Mariano', 'Tadeo', 'Ignacio', 'Antonia'}\n",
            "apellidos_5d={'D', 'Rosales', 'Geronimo', 'Lezcano', 'Elia', 'Portella', 'Barba', 'Martinez', 'Alurralde', 'Zalazar', 'Soriano', 'Arenas', 'Villalba', 'Castillo', 'Soto', 'Salem', 'Alvarado', 'Caseres', 'Camara', 'Flores', 'Polo', 'Guzman', 'Correa', 'Guanca', 'Lacour', 'Jaime', 'Retamal', 'Segovia', 'Voltolini', 'Angel', 'Lascano', 'Cisneros', 'Valdivia'}\n"
          ]
        }
      ]
    },
    {
      "cell_type": "markdown",
      "source": [
        "3. Muestra cuantos nombres únicos hay en cada curso."
      ],
      "metadata": {
        "id": "UW2dlBsGMAte"
      }
    },
    {
      "cell_type": "code",
      "source": [
        "l_nombres_c=[]\n",
        "for estudiante in estudiantes_sin_repetidos:\n",
        "  nombre_completo=estudiante[\"name\"]\n",
        "  apellido,nombre= nombre_completo.split(\",\")\n",
        "  nombres = nombre.split(\" \")\n",
        "  if estudiante[\"section\"]==\"C\":\n",
        "    for nombre in nombres:\n",
        "      l_nombres_c.append(nombre)\n",
        "for i in range(len(nombres)):\n",
        "  nombres[i] = nombres[i].strip()\n",
        "l_nombres_c.extend(nombres)\n",
        "diccionario_onombres={}\n",
        "for nombre in l_nombres_c:\n",
        "   if nombre in diccionario_onombres.keys():\n",
        "      diccionario_onombres[nombre]+=1\n",
        "   else:\n",
        "      diccionario_onombres[nombre]=1\n",
        "\n",
        "for nombre,ocurrencia in diccionario_onombres.items():\n",
        "   if ocurrencia==1:\n",
        "      print(f\"{nombre} es unico\")"
      ],
      "metadata": {
        "id": "EawAy4SANtkl",
        "colab": {
          "base_uri": "https://localhost:8080/"
        },
        "outputId": "f962aca1-38c8-4094-ca37-ea00fc5aa66c"
      },
      "execution_count": 5,
      "outputs": [
        {
          "output_type": "stream",
          "name": "stdout",
          "text": [
            "Sara es unico\n",
            "Elizabeth es unico\n",
            "Yamila es unico\n",
            "Santino es unico\n",
            "Josue es unico\n",
            "Ariana es unico\n",
            "Zoe es unico\n",
            "Del es unico\n",
            "Valle es unico\n",
            "Mia es unico\n",
            "Antonella es unico\n",
            "Alondra es unico\n",
            "Renato es unico\n",
            "Marcelo es unico\n",
            "Matías es unico\n",
            "Agustín es unico\n",
            "Mariel es unico\n",
            "Lucia es unico\n",
            "Magali es unico\n",
            "Joaquin es unico\n",
            "Nicolas es unico\n",
            "Octavio es unico\n",
            "Ismael es unico\n",
            "Abril es unico\n",
            "Lautaro es unico\n",
            "Nahuel es unico\n",
            "Katya es unico\n",
            "Milena es unico\n",
            "Rosario es unico\n",
            "Luana es unico\n",
            "Micaela es unico\n",
            "Ignacio es unico\n",
            "Dulce es unico\n",
            "Maitena es unico\n",
            "Luna es unico\n",
            "Karim es unico\n",
            "Lucas es unico\n",
            "Mauricio es unico\n",
            "Gabriel es unico\n",
            "Matias es unico\n",
            "Victoria es unico\n",
            "Constanza es unico\n",
            "Leonardo es unico\n",
            "Salvador es unico\n",
            "Agustina es unico\n",
            "Tiara es unico\n",
            "Valentino es unico\n"
          ]
        }
      ]
    },
    {
      "cell_type": "markdown",
      "source": [
        "4. Muestra cuantos apellidos únicos hay en cada curso."
      ],
      "metadata": {
        "id": "kZeEHUYVNwGV"
      }
    },
    {
      "cell_type": "code",
      "source": [
        "print(f\"5D: {len(nombres_5d)}\")\n",
        "print(f\"5C: {len(nombres_5C) }\")"
      ],
      "metadata": {
        "outputId": "5c80fa11-3578-4527-c118-924447cac591",
        "colab": {
          "base_uri": "https://localhost:8080/"
        },
        "id": "ZowXPcdXp1eV"
      },
      "execution_count": 13,
      "outputs": [
        {
          "output_type": "stream",
          "name": "stdout",
          "text": [
            "5D: 45\n",
            "5C: 54\n"
          ]
        }
      ]
    },
    {
      "cell_type": "code",
      "source": [
        "l_apellidos_c=[]\n",
        "for estudiante in estudiantes_sin_repetidos:\n",
        "  if estudiante[\"section\"]==\"D\":\n",
        "    nombre_completo=estudiante[\"name\"]\n",
        "    apellido,nombre= nombre_completo.split(\",\")\n",
        "    apellidos = apellido.split(\" \")\n",
        "    l_apellidos_c.extend(apellidos)\n",
        "for i in range(len(apellidos)):\n",
        "  apellidos[i] = apellidos[i].strip()\n",
        "l_apellidos_c.extend(apellidos)\n",
        "diccionario_oapellidos={}\n",
        "for apellido in l_apellidos_c:\n",
        "   if apellido in diccionario_oapellidos.keys():\n",
        "      diccionario_oapellidos[apellido]+=1\n",
        "   else:\n",
        "      diccionario_oapellidos[apellido]=1\n",
        "\n",
        "for apellido,ocurrencia in diccionario_oapellidos.items():\n",
        "   if ocurrencia==1:\n",
        "      print(f\"{apellido} es un apellido unico de 5_d\")\n",
        "\n",
        "\n"
      ],
      "metadata": {
        "id": "q05GnxXgORzt",
        "outputId": "ec90311e-36d5-421d-e6d9-63bd6478b4f2",
        "colab": {
          "base_uri": "https://localhost:8080/"
        }
      },
      "execution_count": 8,
      "outputs": [
        {
          "output_type": "stream",
          "name": "stdout",
          "text": [
            "Correa es un apellido unico de 5_d\n",
            "Segovia es un apellido unico de 5_d\n",
            "Lacour es un apellido unico de 5_d\n",
            "Polo es un apellido unico de 5_d\n",
            "Angel es un apellido unico de 5_d\n",
            "Caseres es un apellido unico de 5_d\n",
            "Lezcano es un apellido unico de 5_d\n",
            "Alurralde es un apellido unico de 5_d\n",
            "D es un apellido unico de 5_d\n",
            "Elia es un apellido unico de 5_d\n",
            "Villalba es un apellido unico de 5_d\n",
            "Castillo es un apellido unico de 5_d\n",
            "Salem es un apellido unico de 5_d\n",
            "Barba es un apellido unico de 5_d\n",
            "Jaime es un apellido unico de 5_d\n",
            "Zalazar es un apellido unico de 5_d\n",
            "Portella es un apellido unico de 5_d\n",
            "Valdivia es un apellido unico de 5_d\n",
            "Geronimo es un apellido unico de 5_d\n",
            "Soriano es un apellido unico de 5_d\n",
            "Retamal es un apellido unico de 5_d\n",
            "Cisneros es un apellido unico de 5_d\n",
            "Rosales es un apellido unico de 5_d\n",
            "Arenas es un apellido unico de 5_d\n",
            "Voltolini es un apellido unico de 5_d\n",
            "Martinez es un apellido unico de 5_d\n",
            "Alvarado es un apellido unico de 5_d\n",
            "Flores es un apellido unico de 5_d\n",
            "Lascano es un apellido unico de 5_d\n",
            "Guanca es un apellido unico de 5_d\n"
          ]
        }
      ]
    },
    {
      "cell_type": "markdown",
      "source": [
        "5. Mostrá los nombres que aparecen en ambos cursos"
      ],
      "metadata": {
        "id": "ywYmA2JQNp3T"
      }
    },
    {
      "cell_type": "code",
      "source": [
        "nombres_5 = set()\n",
        "for nombre_d in nombres_5d:\n",
        "  for nombre_c in nombres_5C:\n",
        "    if nombre_d == nombre_c:\n",
        "      nombres_5.add(nombre_d)\n",
        "for nombre in nombres_5:\n",
        "  print(nombre)"
      ],
      "metadata": {
        "colab": {
          "base_uri": "https://localhost:8080/"
        },
        "outputId": "b314b79b-dd97-4611-9aef-150b14aafd23",
        "id": "bC3cgdlgqwFU"
      },
      "execution_count": 17,
      "outputs": [
        {
          "output_type": "stream",
          "name": "stdout",
          "text": [
            "Gabriel\n",
            "Lucas\n",
            "Agustina\n",
            "Josue\n",
            "Santino\n",
            "Ignacio\n",
            "Del\n",
            "Marcelo\n",
            "Victoria\n"
          ]
        }
      ]
    },
    {
      "cell_type": "markdown",
      "source": [
        "6. Mostrá los apellidos que se aparecen en ambos cursos"
      ],
      "metadata": {
        "id": "iAXts6saODoU"
      }
    },
    {
      "cell_type": "code",
      "source": [
        "apellidos_5 = set()\n",
        "for apellido_d in apellidos_5d:\n",
        "  for apellido_c in apellidos_5C:\n",
        "    if apellido_d == apellido_c:\n",
        "      apellidos_5.add(apellido_d)\n",
        "for apellido in apellidos_5:\n",
        "  print(apellido)"
      ],
      "metadata": {
        "id": "FMRsUlvtOJS_",
        "colab": {
          "base_uri": "https://localhost:8080/"
        },
        "outputId": "01485e7a-5fc8-4a56-b25f-b100f5866f98"
      },
      "execution_count": 19,
      "outputs": [
        {
          "output_type": "stream",
          "name": "stdout",
          "text": [
            "Guanca\n",
            "Flores\n",
            "Martinez\n"
          ]
        }
      ]
    },
    {
      "cell_type": "markdown",
      "source": [
        "7. Mostrá los nombres de los estudiantes de 5C que no existen en 5D y viceversa."
      ],
      "metadata": {
        "id": "T4PFiwwdOK27"
      }
    },
    {
      "cell_type": "code",
      "source": [
        "\n",
        "nombres_5C_unicos = nombres_5C - nombres_5d\n",
        "nombres_5D_unicos = nombres_5d - nombres_5C\n",
        "\n",
        "print(\"Nombres de estudiantes de 5C que no existen en 5D:\")\n",
        "for nombre in nombres_5C_unicos:\n",
        "  print(nombre)\n",
        "\n",
        "print(\"\\nNombres de estudiantes de 5D que no existen en 5C:\")\n",
        "for nombre in nombres_5D_unicos:\n",
        "  print(nombre)\n"
      ],
      "metadata": {
        "id": "rSDt7HiQrowa",
        "outputId": "a4b6de23-5f17-4757-9654-987a34747165",
        "colab": {
          "base_uri": "https://localhost:8080/"
        }
      },
      "execution_count": 21,
      "outputs": [
        {
          "output_type": "stream",
          "name": "stdout",
          "text": [
            "Nombres de estudiantes de 5C que no existen en 5D:\n",
            "Valle\n",
            "Dulce\n",
            "Mauricio\n",
            "Sara\n",
            "Maitena\n",
            "Zoe\n",
            "Joaquin\n",
            "Ezequiel\n",
            "Magali\n",
            "Agustín\n",
            "Agostina\n",
            "Renato\n",
            "Martina\n",
            "Lourdes\n",
            "Micaela\n",
            "Katya\n",
            "Abril\n",
            "Karim\n",
            "Ismael\n",
            "Tiara\n",
            "Salvador\n",
            "Nicolas\n",
            "Octavio\n",
            "Constanza\n",
            "Antonella\n",
            "Valentino\n",
            "Yamila\n",
            "Luna\n",
            "Martin\n",
            "Matías\n",
            "Matias\n",
            "Lautaro\n",
            "Ariana\n",
            "Alondra\n",
            "Leonardo\n",
            "Mia\n",
            "Elizabeth\n",
            "Luana\n",
            "Lucia\n",
            "Tomasso\n",
            "Nahuel\n",
            "Mariel\n",
            "Vitto\n",
            "Rosario\n",
            "Milena\n",
            "\n",
            "Nombres de estudiantes de 5D que no existen en 5C:\n",
            "Alvaro\n",
            "Jazmin\n",
            "Hugo\n",
            "Belen\n",
            "Camila\n",
            "Celia\n",
            "Anita\n",
            "Maria\n",
            "Stefano\n",
            "Nazarena\n",
            "Paulina\n",
            "Milagro\n",
            "Juliana\n",
            "Agustin\n",
            "Tomas\n",
            "Fabricio\n",
            "Ludmila\n",
            "Solange\n",
            "Milagros\n",
            "Stefania\n",
            "Mahia\n",
            "Zacarias\n",
            "Francisco\n",
            "Andres\n",
            "Esmeralda\n",
            "Pedro\n",
            "Morena\n",
            "Amaya\n",
            "Angélica\n",
            "Irina\n",
            "Emanuel\n",
            "Tobias\n",
            "Lizzie\n",
            "Mariano\n",
            "Tadeo\n",
            "Antonia\n"
          ]
        }
      ]
    },
    {
      "cell_type": "markdown",
      "source": [
        "8. Mostrá los apellidos de los estudiantes de 5C que no existen en 5D y viceversa.\n"
      ],
      "metadata": {
        "id": "xfy8SFlZRVGf"
      }
    },
    {
      "cell_type": "code",
      "source": [
        "\n",
        "apellidos_5C_unicos = apellidos_5C - apellidos_5d\n",
        "apellidos_5D_unicos = apellidos_5d - apellidos_5C\n",
        "\n",
        "print(\"Apellidos de estudiantes de 5C que no existen en 5D:\")\n",
        "for apellido in apellidos_5C_unicos:\n",
        "  print(apellido)\n",
        "\n",
        "print(\"\\nApellidos de estudiantes de 5D que no existen en 5C:\")\n",
        "for apellido in apellidos_5D_unicos:\n",
        "  print(apellido)\n"
      ],
      "metadata": {
        "id": "OR_DL3m8r6CM",
        "outputId": "43bb172f-b664-4494-d572-2b6ae43ca535",
        "colab": {
          "base_uri": "https://localhost:8080/"
        }
      },
      "execution_count": 22,
      "outputs": [
        {
          "output_type": "stream",
          "name": "stdout",
          "text": [
            "Apellidos de estudiantes de 5C que no existen en 5D:\n",
            "Tapia\n",
            "Abud\n",
            "Vedia\n",
            "Rasuk\n",
            "Barrozo\n",
            "Bettinelli\n",
            "Vilte\n",
            "Dagum\n",
            "Diaz\n",
            "Messina\n",
            "Giangreco\n",
            "Rivero\n",
            "Argañaraz\n",
            "Figueroa\n",
            "Rios\n",
            "Anaquin\n",
            "Grancara\n",
            "Barrera\n",
            "Merluzzi\n",
            "Sanchez\n",
            "Sierra\n",
            "Marinaro\n",
            "Cardozo\n",
            "Laspiur\n",
            "Mamani\n",
            "Araoz\n",
            "Galvan\n",
            "Scarano\n",
            "Amador\n",
            "Lopez\n",
            "Garrido\n",
            "Gallo\n",
            "Bracamonte\n",
            "Virgillito\n",
            "Colque\n",
            "\n",
            "Apellidos de estudiantes de 5D que no existen en 5C:\n",
            "D\n",
            "Rosales\n",
            "Geronimo\n",
            "Lezcano\n",
            "Elia\n",
            "Portella\n",
            "Barba\n",
            "Alurralde\n",
            "Zalazar\n",
            "Soriano\n",
            "Arenas\n",
            "Villalba\n",
            "Castillo\n",
            "Soto\n",
            "Salem\n",
            "Alvarado\n",
            "Caseres\n",
            "Camara\n",
            "Polo\n",
            "Guzman\n",
            "Correa\n",
            "Lacour\n",
            "Jaime\n",
            "Retamal\n",
            "Segovia\n",
            "Voltolini\n",
            "Angel\n",
            "Lascano\n",
            "Cisneros\n",
            "Valdivia\n"
          ]
        }
      ]
    },
    {
      "cell_type": "markdown",
      "source": [
        "9. Mostrá todos los nombres, menos aquellos que existen en ambos cursos.\n"
      ],
      "metadata": {
        "id": "lW18NgPjRcGP"
      }
    },
    {
      "cell_type": "code",
      "source": [
        "\n",
        "todos_los_nombres = nombres_5C | nombres_5d\n",
        "nombres_en_ambos_cursos = nombres_5C & nombres_5d\n",
        "\n",
        "nombres_unicos = todos_los_nombres - nombres_en_ambos_cursos\n",
        "\n",
        "print(\"Todos los nombres, menos aquellos que existen en ambos cursos:\")\n",
        "for nombre in nombres_unicos:\n",
        "  print(nombre)\n"
      ],
      "metadata": {
        "id": "p-0oWWajsmSs",
        "outputId": "42f3419a-cf42-4b69-b896-bfa301b52b1e",
        "colab": {
          "base_uri": "https://localhost:8080/"
        }
      },
      "execution_count": 29,
      "outputs": [
        {
          "output_type": "stream",
          "name": "stdout",
          "text": [
            "Todos los nombres, menos aquellos que existen en ambos cursos:\n",
            "Valle\n",
            "Sara\n",
            "Camila\n",
            "Belen\n",
            "Nazarena\n",
            "Joaquin\n",
            "Paulina\n",
            "Magali\n",
            "Milagro\n",
            "Agustín\n",
            "Renato\n",
            "Martina\n",
            "Micaela\n",
            "Tomas\n",
            "Abril\n",
            "Karim\n",
            "Nicolas\n",
            "Stefania\n",
            "Mahia\n",
            "Zacarias\n",
            "Francisco\n",
            "Constanza\n",
            "Pedro\n",
            "Antonella\n",
            "Yamila\n",
            "Luna\n",
            "Matias\n",
            "Lautaro\n",
            "Ariana\n",
            "Mia\n",
            "Elizabeth\n",
            "Luana\n",
            "Lucia\n",
            "Tomasso\n",
            "Lizzie\n",
            "Mariel\n",
            "Vitto\n",
            "Rosario\n",
            "Alvaro\n",
            "Jazmin\n",
            "Dulce\n",
            "Mauricio\n",
            "Hugo\n",
            "Maitena\n",
            "Anita\n",
            "Celia\n",
            "Maria\n",
            "Zoe\n",
            "Stefano\n",
            "Ezequiel\n",
            "Mariano\n",
            "Juliana\n",
            "Agustin\n",
            "Agostina\n",
            "Lourdes\n",
            "Katya\n",
            "Fabricio\n",
            "Ludmila\n",
            "Ismael\n",
            "Tiara\n",
            "Salvador\n",
            "Solange\n",
            "Milagros\n",
            "Octavio\n",
            "Andres\n",
            "Esmeralda\n",
            "Morena\n",
            "Valentino\n",
            "Amaya\n",
            "Angélica\n",
            "Irina\n",
            "Matías\n",
            "Martin\n",
            "Alondra\n",
            "Leonardo\n",
            "Emanuel\n",
            "Tobias\n",
            "Nahuel\n",
            "Tadeo\n",
            "Antonia\n",
            "Milena\n"
          ]
        }
      ]
    },
    {
      "cell_type": "markdown",
      "source": [
        "10. elimina tu nombre del conjunto al que pertenece"
      ],
      "metadata": {
        "id": "E24lH7x5Xbur"
      }
    },
    {
      "cell_type": "code",
      "source": [
        "nombree=input(\"Ingrese su nombre: \")\n",
        "for estudiante in estudiantes_sin_repetidos:\n",
        "  if nombree in estudiante['name']:\n",
        "    estudiantes_sin_repetidos.remove(estudiante)\n",
        "for estudiante in estudiantes_sin_repetidos:\n",
        "  print(estudiante)"
      ],
      "metadata": {
        "id": "9SeI3GBGXims",
        "outputId": "e9820c52-3d03-40cd-85bd-4ee05cda7e76",
        "colab": {
          "base_uri": "https://localhost:8080/"
        }
      },
      "execution_count": 30,
      "outputs": [
        {
          "output_type": "stream",
          "name": "stdout",
          "text": [
            "Ingrese su nombre: lizzie\n",
            "{'name': 'Guanca, Sara Elizabeth', 'section': 'C', 'dob': '17/01/2007'}\n",
            "{'name': 'Guzman, Angélica Morena', 'section': 'D', 'dob': '11/04/2007'}\n",
            "{'name': 'Galvan, Lourdes Yamila', 'section': 'C', 'dob': '19/08/2005'}\n",
            "{'name': 'Figueroa, Santino Josue', 'section': 'C', 'dob': '12/05/2007'}\n",
            "{'name': 'Messina, Martina', 'section': 'C', 'dob': '13/07/2005'}\n",
            "{'name': 'Colque Rivero, Ariana Zoe Del Valle', 'section': 'C', 'dob': '27/12/2006'}\n",
            "{'name': 'Vilte, Mia Antonella Alondra', 'section': 'C', 'dob': '10/09/2005'}\n",
            "{'name': 'Correa Segovia, Hugo Mariano', 'section': 'D', 'dob': '04/12/2006'}\n",
            "{'name': 'Scarano, Renato Marcelo', 'section': 'C', 'dob': '06/12/2006'}\n",
            "{'name': 'Sanchez Flores, Matías Agustín', 'section': 'C', 'dob': '15/02/2007'}\n",
            "{'name': 'Lacour Polo, Nazarena', 'section': 'D', 'dob': '19/12/2005'}\n",
            "{'name': 'Abud Laspiur, Lourdes Mariel', 'section': 'C', 'dob': '05/12/2006'}\n",
            "{'name': 'Rios, Lucia Magali', 'section': 'C', 'dob': '22/09/2006'}\n",
            "{'name': 'Guzman, Jazmin Esmeralda Belen', 'section': 'D', 'dob': '31/07/2006'}\n",
            "{'name': 'Barrozo Vedia, Joaquin Nicolas', 'section': 'C', 'dob': '15/04/2006'}\n",
            "{'name': 'Gallo, Octavio Ismael', 'section': 'C', 'dob': '04/08/2006'}\n",
            "{'name': 'Argañaraz, Agostina Abril', 'section': 'C', 'dob': '11/10/2006'}\n",
            "{'name': 'Angel, Camila Juliana', 'section': 'D', 'dob': '07/03/2007'}\n",
            "{'name': 'Caseres, Maria Antonia', 'section': 'D', 'dob': '01/07/2006'}\n",
            "{'name': 'Lezcano, Celia Morena', 'section': 'D', 'dob': '01/07/2005'}\n",
            "{'name': 'Alurralde, Solange Stefania', 'section': 'D', 'dob': '02/04/2007'}\n",
            "{'name': 'Araoz Sanchez, Lautaro Nahuel', 'section': 'C', 'dob': '28/12/2005'}\n",
            "{'name': 'Virgillito, Katya Milena', 'section': 'C', 'dob': '19/06/2007'}\n",
            "{'name': 'D Elia, Alvaro Tadeo', 'section': 'D', 'dob': '27/08/2006'}\n",
            "{'name': 'Villalba, Irina', 'section': 'D', 'dob': '09/09/2006'}\n",
            "{'name': 'Mamani Garrido, Rosario Agostina', 'section': 'C', 'dob': '24/10/2006'}\n",
            "{'name': 'Amador, Luana Micaela', 'section': 'C', 'dob': '09/12/2006'}\n",
            "{'name': 'Castillo, Paulina Milagros', 'section': 'D', 'dob': '01/06/2007'}\n",
            "{'name': 'Salem Barba, Mahia', 'section': 'D', 'dob': '14/10/2005'}\n",
            "{'name': 'Merluzzi Dagum, Ignacio', 'section': 'C', 'dob': '22/12/2005'}\n",
            "{'name': 'Jaime, Anita Maria Belen', 'section': 'D', 'dob': '19/04/2007'}\n",
            "{'name': 'Zalazar, Santino Stefano', 'section': 'D', 'dob': '30/09/2006'}\n",
            "{'name': 'Portella Valdivia, Pedro Francisco', 'section': 'D', 'dob': '24/01/2007'}\n",
            "{'name': 'Diaz, Dulce Maitena', 'section': 'C', 'dob': '11/12/2006'}\n",
            "{'name': 'Geronimo Soriano, Lizzie Amaya', 'section': 'D', 'dob': '20/01/2007'}\n",
            "{'name': 'Grancara, Martina Luna', 'section': 'C', 'dob': '15/12/2006'}\n",
            "{'name': 'Marinaro, Martin Ezequiel', 'section': 'C', 'dob': '03/11/2006'}\n",
            "{'name': 'Retamal Cisneros, Zacarias Josue', 'section': 'D', 'dob': '24/02/2007'}\n",
            "{'name': 'Rosales, Francisco Gabriel', 'section': 'D', 'dob': '14/11/2006'}\n",
            "{'name': 'Rasuk, Karim', 'section': 'C', 'dob': '13/07/2007'}\n",
            "{'name': 'Arenas, Lucas Gabriel', 'section': 'D', 'dob': '26/06/2007'}\n",
            "{'name': 'Sierra, Lucas Mauricio', 'section': 'C', 'dob': '03/04/2005'}\n",
            "{'name': 'Voltolini, Emanuel Tobias', 'section': 'D', 'dob': '17/09/2006'}\n",
            "{'name': 'Tapia, Martin Gabriel', 'section': 'C', 'dob': '30/05/2006'}\n",
            "{'name': 'Martinez, Tomas Andres', 'section': 'D', 'dob': '22/03/2007'}\n",
            "{'name': 'Alvarado, Ludmila Del Milagro', 'section': 'D', 'dob': '06/09/2006'}\n",
            "{'name': 'Flores, Victoria Agustina', 'section': 'D', 'dob': '12/12/2006'}\n",
            "{'name': 'Barrera, Matias Ezequiel', 'section': 'C', 'dob': '27/02/2007'}\n",
            "{'name': 'Lascano Guanca, Marcelo Fabricio', 'section': 'D', 'dob': '17/02/2006'}\n",
            "{'name': 'Lopez, Victoria Constanza', 'section': 'C', 'dob': '12/11/2007'}\n",
            "{'name': 'Anaquin, Leonardo Ezequiel', 'section': 'C', 'dob': '06/09/2005'}\n",
            "{'name': 'Bracamonte Martinez, Salvador', 'section': 'C', 'dob': '02/11/2005'}\n",
            "{'name': 'Flores Cardozo, Agustina Tiara', 'section': 'C', 'dob': '18/03/2006'}\n",
            "{'name': 'Bettinelli, Valentino', 'section': 'C', 'dob': '12/07/2006'}\n",
            "{'name': 'Soto Camara, Agustin Ignacio', 'section': 'D', 'dob': '07/11/2005'}\n",
            "{'name': 'Giangreco, Vitto Tomasso', 'section': 'C', 'dob': '21/03/2007'}\n"
          ]
        }
      ]
    },
    {
      "cell_type": "code",
      "source": [
        "estudiantes_5C=set()\n",
        "estudiantes_5D=set()\n",
        "for estudiante in estudiantes_sin_repetidos:\n",
        "  nomb_c=estudiante[\"name\"]\n",
        "  if estudiante['section']==\"C\":\n",
        "    estudiantes_5C.add(nomb_c)\n",
        "  else:\n",
        "    estudiantes_5D.add(nomb_c)\n",
        "\n",
        "nombr=input(\"Ingrese el nombre ha eliminar: \").title()\n",
        "nombr=nombr+\" \"\n",
        "curso=input(\"Ingrese a que curso pertenece: \").lower()\n",
        "if curso == \"c\":\n",
        "  for estudiante in estudiantes_5C:\n",
        "      if nombr in estudiante:\n",
        "        estudiantes_5C.discard(estudiante)\n",
        "        print(f\"Ha eliminado a {estudiante}\")\n",
        "        break\n",
        "  for estudiante in estudiantes_5C:\n",
        "    print(estudiante)\n",
        "elif curso == \"d\":\n",
        "   for estudiante in estudiantes_5D:\n",
        "      if nombr in estudiante:\n",
        "        estudiantes_5D.discard(estudiante)\n",
        "        print(f\"Ha eliminado a {estudiante}\")\n",
        "        break\n",
        "   for estudiante in estudiantes_5D:\n",
        "     print(estudiante)\n",
        "else:\n",
        "  print(\"Opción invalida\")\n",
        "  nombr=input(\"Ingrese el nombre ha eliminar: \").title()\n",
        "  curso=input(\"Ingrese a que curso pertenece: \").lower()"
      ],
      "metadata": {
        "id": "hRBa7deJaM29",
        "outputId": "2bc4f685-8639-4067-83fe-b89288bac3c5",
        "colab": {
          "base_uri": "https://localhost:8080/"
        }
      },
      "execution_count": 31,
      "outputs": [
        {
          "name": "stdout",
          "output_type": "stream",
          "text": [
            "Ingrese el nombre ha eliminar: lizzie\n",
            "Ingrese a que curso pertenece: 5d\n",
            "Opción invalida\n",
            "Ingrese el nombre ha eliminar: lizzie\n",
            "Ingrese a que curso pertenece: 5d\n"
          ]
        }
      ]
    },
    {
      "cell_type": "markdown",
      "source": [
        "11. Solicita al usuario un nombre y un apellido y agregalos a los correspondientes conjuntos de tu curso.\n",
        "\n",
        "\n",
        "\n"
      ],
      "metadata": {
        "id": "vOY6K_ydRc3Q"
      }
    },
    {
      "cell_type": "code",
      "source": [
        "nom=input(\"Ingrese su nombre: \")\n",
        "ape=input(\"Ingrese su apellido: \")\n",
        "curso=input(\"Ingrese a que curso pertenece: \").lower()\n",
        "nombre_compelto=ape+\", \"+nom\n",
        "if curso == \"c\":\n",
        "  estudiantes_5C.add(nombre_compelto.title())\n",
        "  for estudiante in estudiantes_5C:\n",
        "    print(estudiante)\n",
        "elif curso == \"d\":\n",
        "  estudiantes_5D.add(nombre_compelto.title())\n",
        "  for estudiante in estudiantes_5D:\n",
        "    print(estudiante)\n",
        "else:\n",
        "  print(\"Opción invalida\")\n",
        "  curso=input(\"Ingrese a que curso pertenece: \").lower()"
      ],
      "metadata": {
        "id": "9JDrd3WqRdTi",
        "outputId": "e7469e40-d525-444e-d3d2-2925e90a7d61",
        "colab": {
          "base_uri": "https://localhost:8080/"
        }
      },
      "execution_count": null,
      "outputs": [
        {
          "output_type": "stream",
          "name": "stdout",
          "text": [
            "Ingrese su nombre: mariano bautista\n",
            "Ingrese su apellido: cuevas\n",
            "Ingrese a que curso pertenece: d\n",
            "Jaime, Anita Maria Belen\n",
            "Alurralde, Solange Stefania\n",
            "Zalazar, Santino Stefano\n",
            "Flores, Victoria Agustina\n",
            "D Elia, Alvaro Tadeo\n",
            "Portella Valdivia, Pedro Francisco\n",
            "Villalba, Irina\n",
            "Voltolini, Emanuel Tobias\n",
            "Lascano Guanca, Marcelo Fabricio\n",
            "Lacour Polo, Nazarena\n",
            "Retamal Cisneros, Zacarias Josue\n",
            "Arenas, Lucas Gabriel\n",
            "Correa Segovia, Hugo Mariano\n",
            "Martinez, Tomas Andres\n",
            "Angel, Camila Juliana\n",
            "Cuevas, Mariano Bautista\n",
            "Castillo, Paulina Milagros\n",
            "Salem Barba, Mahia\n",
            "Grancara, Martina Luna\n",
            "Guzman, Jazmin Esmeralda Belen\n",
            "Rosales, Francisco Gabriel\n",
            "Soto Camara, Agustin Ignacio\n",
            "Caseres, Maria Antonia\n",
            "Alvarado, Ludmila Del Milagro\n",
            "Guzman, Angélica Morena\n",
            "Geronimo Soriano, Lizzie Amaya\n",
            "Lezcano, Celia Morena\n"
          ]
        }
      ]
    },
    {
      "cell_type": "markdown",
      "source": [
        "12. Solicita un nombre y verifica si este existe en el diccionario"
      ],
      "metadata": {
        "id": "hs1vGDrX2wHq"
      }
    },
    {
      "cell_type": "code",
      "source": [
        "nomb=input(\"Ingrese el nombre del estudiante que desea buscar: \").title()\n",
        "nomb=nomb+\" \"\n",
        "existe=False\n",
        "for estudiante in estudiantes_sin_repetidos:\n",
        "  if nomb in estudiante[\"name\"]:\n",
        "    print(f\"El estudiante {nomb} si existe\")\n",
        "    print(estudiante)\n",
        "    existe=True\n",
        "\n",
        "if existe==False:\n",
        "    print(f\"El estudiante {nomb} no existe\")\n"
      ],
      "metadata": {
        "id": "4bbRCYWt2vDO",
        "colab": {
          "base_uri": "https://localhost:8080/"
        },
        "outputId": "7d686331-0060-4639-8f4c-6cedef7a82b3"
      },
      "execution_count": 32,
      "outputs": [
        {
          "output_type": "stream",
          "name": "stdout",
          "text": [
            "Ingrese el nombre del estudiante que desea buscar: lizzie \n",
            "El estudiante Lizzie   no existe\n"
          ]
        }
      ]
    }
  ]
}